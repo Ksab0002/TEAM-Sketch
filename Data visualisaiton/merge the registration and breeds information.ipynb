{
 "cells": [
  {
   "cell_type": "code",
   "execution_count": 1,
   "metadata": {},
   "outputs": [],
   "source": [
    "import pandas as pd"
   ]
  },
  {
   "cell_type": "code",
   "execution_count": 2,
   "metadata": {},
   "outputs": [
    {
     "name": "stderr",
     "output_type": "stream",
     "text": [
      "d:\\Users\\Tao Hua\\Anaconda3\\lib\\site-packages\\IPython\\core\\interactiveshell.py:2785: DtypeWarning: Columns (4,6,7,11,13,14,17,18) have mixed types. Specify dtype option on import or set low_memory=False.\n",
      "  interactivity=interactivity, compiler=compiler, result=result)\n"
     ]
    }
   ],
   "source": [
    "Registration = pd.read_csv('Registrations_Master_Vic.csv')"
   ]
  },
  {
   "cell_type": "code",
   "execution_count": 3,
   "metadata": {},
   "outputs": [],
   "source": [
    "breeds = pd.read_csv('breeds_information.csv')"
   ]
  },
  {
   "cell_type": "code",
   "execution_count": 4,
   "metadata": {},
   "outputs": [],
   "source": [
    "Registration['Breed_Description_primary']= Registration['Breed_Description_primary'].fillna('999')\n",
    "nu = Registration[Registration['Breed_Description_primary']=='999'].index.tolist()\n",
    "Registration = Registration.drop(nu)"
   ]
  },
  {
   "cell_type": "code",
   "execution_count": 5,
   "metadata": {},
   "outputs": [],
   "source": [
    "import re\n",
    "Registration['Breed_Description_primary'] = Registration.apply(lambda row: '999' if len(re.findall('[Dd][Oo][Mm][Ee][Ss][Tt][Ii][Cc]',row['Breed_Description_primary'])) >0 else row['Breed_Description_primary'],axis=1)\n",
    "nu = Registration[Registration['Breed_Description_primary']=='999'].index.tolist()\n",
    "Registration = Registration.drop(nu)"
   ]
  },
  {
   "cell_type": "code",
   "execution_count": 9,
   "metadata": {},
   "outputs": [],
   "source": [
    "import string\n",
    "Registration['Breed_Description_primary'] = Registration.apply(lambda row: string.capwords(row['Breed_Description_primary'].lower()),axis=1)"
   ]
  },
  {
   "cell_type": "code",
   "execution_count": 10,
   "metadata": {},
   "outputs": [],
   "source": [
    "breeds_big = breeds[breeds['Size']>=4]\n",
    "breeds_small = breeds[breeds['Size']<=2]\n",
    "energy = breeds[breeds['Energy Level']>=4]\n",
    "adopt = breeds[breeds['Adapts Well to Apartment Living']>=4]\n",
    "Friendly = breeds[breeds['Friendly Toward Strangers']>=4]\n",
    "Train = breeds[breeds['Easy To Train']>=4]"
   ]
  },
  {
   "cell_type": "code",
   "execution_count": 11,
   "metadata": {},
   "outputs": [],
   "source": [
    "big_list = [x.lower().strip() for x in breeds_big['breeds']]\n",
    "small_list = [x.lower().strip() for x in breeds_small['breeds']]\n",
    "energy_list = [x.lower().strip() for x in energy['breeds']]\n",
    "adopt_list = [x.lower().strip() for x in adopt['breeds']]\n",
    "Friendly_list = [x.lower().strip() for x in Friendly['breeds']]\n",
    "Train_list = [x.lower().strip() for x in Train['breeds']]"
   ]
  },
  {
   "cell_type": "code",
   "execution_count": 12,
   "metadata": {},
   "outputs": [],
   "source": [
    "Registration['Big_size'] = Registration.apply(lambda row: 'Big size' if row['Breed_Description_primary'].lower().strip() in big_list else 0, axis=1 )\n",
    "Registration['Small'] = Registration.apply(lambda row: 'Small' if row['Breed_Description_primary'].lower().strip() in small_list else 0, axis=1 )\n",
    "Registration['Energy'] = Registration.apply(lambda row: 'Energy' if row['Breed_Description_primary'].lower().strip() in energy_list else 0, axis=1 )\n",
    "Registration['Adopt'] = Registration.apply(lambda row: 'Easy to adopt' if row['Breed_Description_primary'].lower().strip() in adopt_list else 0, axis=1 )\n",
    "Registration['Firendly'] = Registration.apply(lambda row: 'Friendly' if row['Breed_Description_primary'].lower().strip() in Friendly_list else 0, axis=1 )\n",
    "Registration['Train'] = Registration.apply(lambda row: 'Easy to train' if row['Breed_Description_primary'].lower().strip() in Train_list else 0, axis=1 )\n"
   ]
  },
  {
   "cell_type": "code",
   "execution_count": 15,
   "metadata": {},
   "outputs": [],
   "source": [
    "Registration.to_csv('combine_information.csv',index=False)"
   ]
  },
  {
   "cell_type": "code",
   "execution_count": 14,
   "metadata": {},
   "outputs": [
    {
     "data": {
      "text/plain": [
       "array([0, 'Big size'], dtype=object)"
      ]
     },
     "execution_count": 14,
     "metadata": {},
     "output_type": "execute_result"
    }
   ],
   "source": [
    "Registration['Big_size'].unique()"
   ]
  },
  {
   "cell_type": "code",
   "execution_count": null,
   "metadata": {},
   "outputs": [],
   "source": []
  }
 ],
 "metadata": {
  "kernelspec": {
   "display_name": "Python 3",
   "language": "python",
   "name": "python3"
  },
  "language_info": {
   "codemirror_mode": {
    "name": "ipython",
    "version": 3
   },
   "file_extension": ".py",
   "mimetype": "text/x-python",
   "name": "python",
   "nbconvert_exporter": "python",
   "pygments_lexer": "ipython3",
   "version": "3.6.5"
  }
 },
 "nbformat": 4,
 "nbformat_minor": 2
}
